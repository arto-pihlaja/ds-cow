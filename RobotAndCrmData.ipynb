{
 "cells": [
  {
   "cell_type": "markdown",
   "metadata": {},
   "source": [
    "# Data explorations\n",
    "Starting point: mostly cleansed dataset. It contains NextXxxx columns that indicate the values for Fat, Protein and Production two weeks from the present.\n",
    "Plan: verify data quality, merge with CRM data, then try some regressions for forecasting & feature importance. Forecasting target: NextValue = calculated value 2 weeks from present.\n"
   ]
  },
  {
   "cell_type": "code",
   "execution_count": 1,
   "metadata": {},
   "outputs": [],
   "source": [
    "import pandas as pd\n",
    "from sklearn import cluster\n",
    "from sklearn import preprocessing\n",
    "from matplotlib import pyplot as plt\n",
    "from processLRDR import transformNegatives\n",
    "import confidential as cf  #Value calculating formulas, not shared\n",
    "import numpy as np"
   ]
  },
  {
   "cell_type": "code",
   "execution_count": 2,
   "metadata": {},
   "outputs": [
    {
     "name": "stdout",
     "output_type": "stream",
     "text": [
      "Are these values OK, for example:\n",
      "Total number of observations 169385\n",
      "Number of observations with more than 8 calvings:  321  or  0.2 % of the observations\n",
      "Number of observations with DIM > 500:  845 or 0.5 % of the observations\n",
      "Highest protein percentage:  7.4 %\n",
      "Number of observations with protein > 5%:  755\n"
     ]
    }
   ],
   "source": [
    "\n",
    "def loadCleansedData(test=False):\n",
    "    if test:\n",
    "        nrows = 10000\n",
    "    else:\n",
    "        nrows = None # Load all        \n",
    "    df = pd.read_csv(\"..\\\\V_RobotPlusOneCows-LROnly-Comma-MainValuesModel\\\\V_RobotPlusOneCows-LROnly-Comma-MainValuesModel.csv\",sep=\";\",decimal=\",\", low_memory=False, nrows=nrows, encoding='latin1')            \n",
    "    df.loc[:,\"Date\"] = pd.to_datetime(arg=df.loc[:,\"Date\"],format=\"%Y%m%d\") \n",
    "    df = df.iloc[:,3:] #dropping the artificial keys\n",
    "    df.sort_values(by=\"Date\",inplace=True)    \n",
    "# harmonise percent values to < 1, so 3.3 => 0.033. Remove outliers. Values > 0.08 (8%) must be errors.\n",
    "    for col in [\"ProteinPercent\", \"FatPercent\", \"NextProtein\", \"NextFat\"]:\n",
    "        df.loc[:,col] = df.loc[:,col].apply( lambda x: x if x < 1 else x/100)\n",
    "        df.loc[:,col] = df.loc[:,col].apply( lambda x: x if x < 0.08 else None)\n",
    "        # replace outliers with mean\n",
    "        mu = df.loc[:,col].mean()\n",
    "        rowsWithNone = df.loc[:,col].isnull()\n",
    "        df.loc[rowsWithNone,col] = mu\n",
    "        \n",
    "    df = df.rename({\"Lypsyjä Last 24 h\":\"MilkingsLast24h\",\n",
    "                    \"Syönti yhteensä\":\"FeedTotal24h\"\n",
    "                    }, axis=\"columns\")      \n",
    "    return df\n",
    "\n",
    "def printCleansedFacts(df):\n",
    "    print(\"Are these values OK, for example:\")\n",
    "    totalObs = df.shape[0]\n",
    "    print(\"Total number of observations\", totalObs)\n",
    "    calv = sum(df[\"Calving No\"]>8)\n",
    "    print(\"Number of observations with more than 8 calvings: \", calv, \" or \", round(calv/totalObs*100, 1), \"% of the observations\" )\n",
    "    dim = sum(df.DIM>500)\n",
    "    print(\"Number of observations with DIM > 500: \", dim, \"or\", round(dim/totalObs*100, 1), \"% of the observations\")\n",
    "    print(\"Highest protein percentage: \", round(df.ProteinPercent.max()*100, 1), \"%\")\n",
    "    print(\"Number of observations with protein > 5%: \", sum(df[\"ProteinPercent\"]>0.05))\n",
    "    \n",
    "df = loadCleansedData()\n",
    "printCleansedFacts(df)"
   ]
  },
  {
   "cell_type": "markdown",
   "metadata": {},
   "source": [
    "## Merge CRM data\n",
    "Merge with CRM data to get some farm attributes, such as Organic (yes/no)"
   ]
  },
  {
   "cell_type": "code",
   "execution_count": 3,
   "metadata": {},
   "outputs": [
    {
     "name": "stderr",
     "output_type": "stream",
     "text": [
      "C:\\Users\\pihlaart1\\AppData\\Local\\Continuum\\anaconda3\\lib\\site-packages\\ipykernel_launcher.py:10: SettingWithCopyWarning: \n",
      "A value is trying to be set on a copy of a slice from a DataFrame\n",
      "\n",
      "See the caveats in the documentation: http://pandas.pydata.org/pandas-docs/stable/indexing.html#indexing-view-versus-copy\n",
      "  # Remove the CWD from sys.path while we load stuff.\n",
      "C:\\Users\\pihlaart1\\AppData\\Local\\Continuum\\anaconda3\\lib\\site-packages\\pandas\\core\\indexing.py:537: SettingWithCopyWarning: \n",
      "A value is trying to be set on a copy of a slice from a DataFrame.\n",
      "Try using .loc[row_indexer,col_indexer] = value instead\n",
      "\n",
      "See the caveats in the documentation: http://pandas.pydata.org/pandas-docs/stable/indexing.html#indexing-view-versus-copy\n",
      "  self.obj[item] = s\n"
     ]
    },
    {
     "data": {
      "text/plain": [
       "Date                   datetime64[ns]\n",
       "Week                            int64\n",
       "Month                           int64\n",
       "Farm                            int64\n",
       "CowCalvingKEY                  object\n",
       "Cow Code                        int64\n",
       "Cow Name                       object\n",
       "Calving No                      int64\n",
       "DIM                             int64\n",
       "MilkingsLast24h               float64\n",
       "FeedTotal24h                  float64\n",
       "Production avg                float64\n",
       "Production today              float64\n",
       "FatPercent                    float64\n",
       "ProteinPercent                float64\n",
       "NextDIM                         int64\n",
       "NextLyps                      float64\n",
       "NextSyo                       float64\n",
       "NextProdAvg                   float64\n",
       "NextProdToday                 float64\n",
       "NextFat                       float64\n",
       "NextProtein                   float64\n",
       "Account                        object\n",
       "CustomerType                   object\n",
       "FarmType                       object\n",
       "Industry                       object\n",
       "Kiosk                           int64\n",
       "AutomaticFeed                   int64\n",
       "MeatProducer                    int64\n",
       "OrganicFarm                     int64\n",
       "DairyFarm                       int64\n",
       "Yoke                            int64\n",
       "FreeRangeFarm                   int64\n",
       "Robot                           int64\n",
       "FullFeed                        int64\n",
       "ConcentratedFeed                int64\n",
       "Pioneer                         int64\n",
       "NbOfCows                        int64\n",
       "AvgProductionLiters           float64\n",
       "dtype: object"
      ]
     },
     "execution_count": 3,
     "metadata": {},
     "output_type": "execute_result"
    }
   ],
   "source": [
    "def loadCrmData(test=False):\n",
    "    if test:\n",
    "        nrows = 10000\n",
    "    else:\n",
    "        nrows = None # Load all        \n",
    "    df = pd.read_csv(\"..\\\\SAPAnalyticsReport.csv\",sep=\";\",decimal=\",\", low_memory=False, nrows=nrows, encoding='latin1')            \n",
    "#    df = df.loc[((df.loc[:,\"Pääasiakkuus\"]==\"Nauta\") | (df.loc[:,\"Pääasiakkuus\"]==\"Not assigned\")) ,:]\n",
    "    query = \"(Pääasiakkuus == 'Nauta' | Pääasiakkuus == 'Not assigned') & (Industry == 'Alkutuottaja' | Industry == 'Not assigned' )\"\n",
    "    df = df.query(query)\n",
    "    df.replace(to_replace=\"Not assigned\", value=\"\",inplace=True)\n",
    "    width = df.shape[1]    \n",
    "    for col in range((width - 11),width):    \n",
    "        # format numeric columns\n",
    "        df.iloc[:,col] = df.iloc[:,col].apply( lambda x: str(x).replace(\".\",\"\"))\n",
    "        df.iloc[:,col] = df.iloc[:,col].apply( lambda x: str(x).replace(\",\",\".\"))\n",
    "        df.iloc[:,col] = pd.to_numeric(df.iloc[:,col], errors=\"coerce\")\n",
    "\n",
    "    for col in [\"Emolehmätila\", \"Kioski\", \"Koneruokinta\", \"Kuivaruokinta\", \"Lihakarjatila\", \"Loppukasvattamotila\",\n",
    "                \"Luomukarjatila\",\"Lypsykarjatila\", \"Parsi\", \"Pihatto\", \"Premix-ruokinta\", \"Puolitiiviste\", \"Robotti\",\n",
    "                \"Täysrehu\", \"Tiiviste\", \"Edelläkävijä\"]:    \n",
    "        # format Boolean values as binary\n",
    "        df.loc[:,col] = df.loc[:,col].apply( lambda x: 1 if x == \"YES\" else 0)\n",
    "        df.loc[:,col] = df.loc[:,col].astype(\"int64\")\n",
    "\n",
    "        \n",
    "    df.loc[:,\"External ID\"] = df.loc[:,\"External ID\"].apply( lambda x: str(x).replace(\"#\",\"\")) # fix some wrong values\n",
    "#    df.loc[:,\"External ID\"] = df.loc[:,\"External ID\"].apply( lambda x: int(x))\n",
    "    df.loc[:,\"External ID\"] = pd.to_numeric(df.loc[:,\"External ID\"], errors=\"coerce\")\n",
    "    df.loc[:,\"Account ID\"] = pd.to_numeric(df.loc[:,\"Account ID\"], errors=\"coerce\").astype(\"int64\", errors=\"ignore\")\n",
    "    df = df.loc[:,[\"External ID\",\"Account\",\"Pääasiakkuus\",\"Päätilatyyppi\", \"Industry\", \"Kioski\", \"Koneruokinta\",\"Lihakarjatila\", \"Luomukarjatila\", \"Lypsykarjatila\", \n",
    "                   \"Parsi\", \"Pihatto\", \"Robotti\", \"Täysrehu\", \"Tiiviste\", \"Edelläkävijä\", \"Lehmien määrä\", \"Keskituotos (litraa)\"]]    \n",
    "    df = df.rename({\"External ID\":\"Farm\",\n",
    "                    \"Pääasiakkuus\":\"CustomerType\",\n",
    "                    \"Päätilatyyppi\":\"FarmType\",\n",
    "                    \"Kioski\":\"Kiosk\",\n",
    "                    \"Koneruokinta\":\"AutomaticFeed\",\n",
    "                    \"Lihakarjatila\":\"MeatProducer\",\n",
    "                    \"Luomukarjatila\":\"OrganicFarm\",\n",
    "                    \"Lypsykarjatila\":\"DairyFarm\",\n",
    "                    \"Parsi\":\"Yoke\",\n",
    "                    \"Pihatto\":\"FreeRangeFarm\",\n",
    "                    \"Robotti\":\"Robot\",\n",
    "                    \"Täysrehu\":\"FullFeed\",\n",
    "                    \"Tiiviste\":\"ConcentratedFeed\",\n",
    "                    \"Edelläkävijä\":\"Pioneer\",\n",
    "                    \"Lehmien määrä\":\"NbOfCows\",\n",
    "                    \"Keskituotos (litraa)\":\"AvgProductionLiters\",\n",
    "                    }, axis=\"columns\")        \n",
    "\n",
    "    return df\n",
    "\n",
    "def mergeCrmData(df, crmDf):    \n",
    "    df = df.merge(right=crmDf, how=\"left\", on=\"Farm\")\n",
    "    i = df.loc[:,\"OrganicFarm\"].isnull()\n",
    "    df = df[~i]\n",
    "    width = df.shape[1]\n",
    "    for col in range(width-13,width-1):\n",
    "    # reformat from float to int (0 and 1)\n",
    "        df.iloc[:,col] = df.iloc[:,col].astype(\"int64\")\n",
    "#    df.to_csv(\"RoboCrmMerge.csv\",sep=\";\",decimal=\",\")\n",
    "    return df\n",
    "\n",
    "crmDf = loadCrmData()\n",
    "df = mergeCrmData(df, crmDf)\n",
    "del(crmDf)\n",
    "df.dtypes"
   ]
  },
  {
   "cell_type": "markdown",
   "metadata": {},
   "source": [
    "## Feature engineering\n",
    "Calculate NextValue that combines the target values NextProtein, NextFat, NextProduction\n",
    "Encode the cyclical months so that for example month 1 is close to month 12"
   ]
  },
  {
   "cell_type": "code",
   "execution_count": 8,
   "metadata": {},
   "outputs": [
    {
     "data": {
      "text/plain": [
       "Date                   datetime64[ns]\n",
       "Week                            int64\n",
       "Month                           int64\n",
       "Farm                            int64\n",
       "CowCalvingKEY                  object\n",
       "Cow Code                        int64\n",
       "Cow Name                       object\n",
       "Calving No                      int64\n",
       "DIM                             int64\n",
       "MilkingsLast24h               float64\n",
       "FeedTotal24h                  float64\n",
       "Production avg                float64\n",
       "Production today              float64\n",
       "FatPercent                    float64\n",
       "ProteinPercent                float64\n",
       "NextDIM                         int64\n",
       "NextLyps                      float64\n",
       "NextSyo                       float64\n",
       "NextProdAvg                   float64\n",
       "NextProdToday                 float64\n",
       "NextFat                       float64\n",
       "NextProtein                   float64\n",
       "Account                        object\n",
       "CustomerType                   object\n",
       "FarmType                       object\n",
       "Industry                       object\n",
       "Kiosk                           int64\n",
       "AutomaticFeed                   int64\n",
       "MeatProducer                    int64\n",
       "OrganicFarm                     int64\n",
       "DairyFarm                       int64\n",
       "Yoke                            int64\n",
       "FreeRangeFarm                   int64\n",
       "Robot                           int64\n",
       "FullFeed                        int64\n",
       "ConcentratedFeed                int64\n",
       "Pioneer                         int64\n",
       "NbOfCows                        int64\n",
       "AvgProductionLiters           float64\n",
       "ValueToday                    float64\n",
       "NextValue                     float64\n",
       "MonthSin                      float64\n",
       "MonthCos                      float64\n",
       "dtype: object"
      ]
     },
     "execution_count": 8,
     "metadata": {},
     "output_type": "execute_result"
    }
   ],
   "source": [
    "def encodeCyclicalValues(cyclicalSeries, numberOfPeriods):\n",
    "        sin_feat = np.sin(cyclicalSeries/numberOfPeriods *2 *np.pi)\n",
    "        cos_feat = np.cos(cyclicalSeries/numberOfPeriods *2 *np.pi)\n",
    "        return sin_feat, cos_feat\n",
    "\n",
    "# value calculation formulas removed and hidden\n",
    "\n",
    "def addFeatures(df):\n",
    "    df[\"ValueToday\"] = calculateValueGeneric(df[\"Production today\"], df[\"FatPercent\"], df[\"ProteinPercent\"])\n",
    "    df[\"NextValue\"] = calculateValueGeneric(df.NextProdToday, df.NextFat, df.NextProtein)\n",
    "    df[\"MonthSin\"], df[\"MonthCos\"] = encodeCyclicalValues(df.Month, 12)\n",
    "    return df\n",
    "\n",
    "df = addFeatures(df)\n",
    "df.dtypes"
   ]
  },
  {
   "cell_type": "markdown",
   "metadata": {},
   "source": [
    "# Predictions\n",
    "Plan:\n",
    "1) establish a baseline prediction\n",
    "2) try different regressions and compare to baseline"
   ]
  },
  {
   "cell_type": "code",
   "execution_count": 10,
   "metadata": {},
   "outputs": [
    {
     "name": "stdout",
     "output_type": "stream",
     "text": [
      "Baseline mean error:  1.4\n"
     ]
    }
   ],
   "source": [
    "def baselinePrediction(df):\n",
    "    # baseline: guess the value just stays the same. Calculate it's error.\n",
    "    baselineME = round(np.mean(abs(df.NextValue - df.ValueToday)), 2)\n",
    "    print(\"Baseline mean error: \", baselineME)\n",
    "baselinePrediction(df)"
   ]
  },
  {
   "cell_type": "markdown",
   "metadata": {},
   "source": [
    "Functions for splitting to train and test sets"
   ]
  },
  {
   "cell_type": "code",
   "execution_count": 15,
   "metadata": {},
   "outputs": [],
   "source": [
    "def splitTrainTest(features, labels):\n",
    "    from sklearn.model_selection import train_test_split\n",
    "    trainFeatures, testFeatures, trainLabels, testLabels = train_test_split(features, labels, test_size=0.2)\n",
    "    return trainFeatures, testFeatures, trainLabels, testLabels \n",
    "\n",
    "def dataframeToTrainTestData(df):\n",
    "    y = np.array(df.loc[:, \"NextValue\"])\n",
    "    X = df.drop(\"NextValue\", axis=\"columns\")\n",
    "    trainX, testX, trainy, testy = splitTrainTest(X, y)    \n",
    "    return trainX, testX, trainy, testy "
   ]
  },
  {
   "cell_type": "markdown",
   "metadata": {},
   "source": [
    "## Random forest\n",
    "Try random forest \n",
    "First some helper functions"
   ]
  },
  {
   "cell_type": "code",
   "execution_count": 21,
   "metadata": {},
   "outputs": [],
   "source": [
    "def evaluateResults(prediction, testy):\n",
    "    errors = abs(prediction - testy)\n",
    "    predictionME = round(np.mean(errors), 5)\n",
    "    print(\"Prediction mean error: \", predictionME)  \n",
    "\n",
    "def normalizeFeatures(df):\n",
    "    d_scaled = preprocessing.scale(df) #Normal distribution\n",
    "    df.loc[:,:] = d_scaled\n",
    "    return df    "
   ]
  },
  {
   "cell_type": "markdown",
   "metadata": {},
   "source": [
    "Then run the random forest with 50 trees for a reasonable runtime"
   ]
  },
  {
   "cell_type": "code",
   "execution_count": 22,
   "metadata": {},
   "outputs": [
    {
     "name": "stdout",
     "output_type": "stream",
     "text": [
      "Data import and formatting complete. Now training Random Forest model.\n",
      "Prediction mean error:  1.15885\n",
      "Baseline mean error:  1.4\n",
      "Feature importances:\n",
      "Variable: Production avg       Importance: 0.72\n",
      "Variable: DIM                  Importance: 0.12\n",
      "Variable: FeedTotal24h         Importance: 0.03\n",
      "Variable: FatPercent           Importance: 0.03\n",
      "Variable: ProteinPercent       Importance: 0.03\n",
      "Variable: Farm                 Importance: 0.02\n",
      "Variable: Calving No           Importance: 0.02\n",
      "Variable: MilkingsLast24h      Importance: 0.02\n",
      "Variable: MonthSin             Importance: 0.01\n",
      "Variable: MonthCos             Importance: 0.01\n",
      "Variable: OrganicFarm          Importance: 0.0\n",
      "Variable: Yoke                 Importance: 0.0\n",
      "Variable: FreeRangeFarm        Importance: 0.0\n",
      "Variable: Robot                Importance: 0.0\n"
     ]
    }
   ],
   "source": [
    "features = [\"Farm\", \"MonthSin\", \"MonthCos\", \"Calving No\", \"DIM\", \"MilkingsLast24h\", \"FeedTotal24h\", \n",
    "                \"Production avg\", \"FatPercent\", \"ProteinPercent\", \n",
    "                \"OrganicFarm\", \"Yoke\", \"FreeRangeFarm\", \"Robot\", \"NextValue\"]\n",
    "dfForPrediction = df.loc[:,features]\n",
    "trainX, testX, trainy, testy = dataframeToTrainTestData(dfForPrediction)\n",
    "print(\"Data import and formatting complete. Now training Random Forest model.\")\n",
    "from sklearn.ensemble import RandomForestRegressor\n",
    "rf = RandomForestRegressor(n_estimators=50)\n",
    "rf.fit(trainX, trainy)\n",
    "prediction = rf.predict(testX)\n",
    "evaluateResults(prediction, testy)\n",
    "baselinePrediction(df)\n",
    "# Get numerical feature importances (source: https://towardsdatascience.com/random-forest-in-python-24d0893d51c0)\n",
    "print(\"Feature importances:\")\n",
    "importances = list(rf.feature_importances_) \n",
    "# List of tuples with variable and importance\n",
    "feature_importances = [(feature, round(importance, 2)) for feature, importance in zip(features, importances)]\n",
    "# Sort the feature importances by most important first\n",
    "feature_importances = sorted(feature_importances, key = lambda x: x[1], reverse = True)\n",
    "# Print out the feature and importances \n",
    "[print('Variable: {:20} Importance: {}'.format(*pair)) for pair in feature_importances];\n",
    "\n"
   ]
  },
  {
   "cell_type": "markdown",
   "metadata": {},
   "source": [
    "The random forest doesn't add much value to the baseline.\n",
    "From the results, we see that clearly the strongest predictor for NextValue is the current production. So the production (and value) in 2 weeks are roughly the same as at present. Not that surprising."
   ]
  },
  {
   "cell_type": "markdown",
   "metadata": {},
   "source": [
    "## Linear regression\n",
    "Let's try linear regression and some modifications. This time, instead of Production today, I'll include ValueToday into the features."
   ]
  },
  {
   "cell_type": "code",
   "execution_count": 25,
   "metadata": {},
   "outputs": [
    {
     "name": "stdout",
     "output_type": "stream",
     "text": [
      "Prediction mean error:  0.34725\n",
      "R2 of linear model:  0.7416101634729334\n",
      "Baseline mean error:  1.4\n"
     ]
    }
   ],
   "source": [
    "from sklearn import linear_model\n",
    "features = [\"Farm\", \"MonthSin\", \"MonthCos\", \"Calving No\", \"DIM\", \"MilkingsLast24h\", \"FeedTotal24h\", \n",
    "                \"ValueToday\", \"OrganicFarm\", \"NextValue\"]\n",
    "predDf = df.loc[:,features]\n",
    "predDf = normalizeFeatures(predDf)\n",
    "y = predDf.NextValue\n",
    "X = predDf.drop(\"NextValue\", axis=\"columns\")\n",
    "trainX, testX, trainy, testy = splitTrainTest(X, y)    \n",
    "lin = linear_model.LinearRegression()\n",
    "lin.fit(trainX, trainy)\n",
    "prediction = lin.predict(testX)\n",
    "evaluateResults(prediction, testy)\n",
    "print(\"R2 of linear model: \", lin.score(testX, testy))\n",
    "baselinePrediction(df)"
   ]
  },
  {
   "cell_type": "markdown",
   "metadata": {},
   "source": [
    "Interestingly, the linear model works much better than the random forest. Or perhaps it's due to the fact that we have ValueToday as feature?\n",
    "\n",
    "Next, try adding the square of DIM as factor (to approximate the bell shape of the DIM curve)"
   ]
  },
  {
   "cell_type": "code",
   "execution_count": 27,
   "metadata": {},
   "outputs": [
    {
     "name": "stdout",
     "output_type": "stream",
     "text": [
      "Prediction mean error:  0.33602\n",
      "R2 of DIM2 model:  0.7646308838604667\n",
      "Model coefficients: \n",
      "Farm 0.004831385612679194\n",
      "MonthSin 0.02277841651120112\n",
      "MonthCos 0.00028046921607825884\n",
      "Calving No 0.017199578769987484\n",
      "DIM -0.2955474271847922\n",
      "MilkingsLast24h 0.004030052261540353\n",
      "FeedTotal24h -0.006893353847811001\n",
      "ValueToday 0.744999916799489\n",
      "OrganicFarm -0.014475498021592825\n",
      "DIM2 0.1245137115391754\n"
     ]
    }
   ],
   "source": [
    "X[\"DIM2\"] = X[\"DIM\"]*X[\"DIM\"]    \n",
    "X = normalizeFeatures(X)\n",
    "trainX, testX, trainy, testy = splitTrainTest(X, y)\n",
    "lin2 = linear_model.LinearRegression()\n",
    "lin2.fit(trainX, trainy)\n",
    "prediction = lin2.predict(testX)\n",
    "evaluateResults(prediction, testy)   \n",
    "print(\"R2 of DIM2 model: \", lin2.score(testX, testy))\n",
    "print(\"Model coefficients: \")\n",
    "features[len(lin2.coef_)-1] =\"DIM2\"\n",
    "for i in range(0,len(lin2.coef_)):\n",
    "    print(features[i], lin2.coef_[i])\n"
   ]
  },
  {
   "cell_type": "markdown",
   "metadata": {},
   "source": [
    "Adding the DIM^2 term didn't improve performance much. \n",
    "\n",
    "Now try to decide the feature importance in a linear model (ref: http://scikit-learn.org/stable/modules/generated/sklearn.feature_selection.f_regression.html)"
   ]
  },
  {
   "cell_type": "code",
   "execution_count": 33,
   "metadata": {},
   "outputs": [
    {
     "name": "stdout",
     "output_type": "stream",
     "text": [
      "\n",
      "F-regression scores:\n",
      "Feature   F-value     p-value\n",
      "Farm 115.21640681480264 7.198523156091714e-27\n",
      "MonthSin 782.0080373466053 1.0883393087220832e-171\n",
      "MonthCos 1.30176067224289 0.25389348446055165\n",
      "Calving No 6915.945458405101 0.0\n",
      "DIM 61622.048982063156 0.0\n",
      "MilkingsLast24h 56657.19629112638 0.0\n",
      "FeedTotal24h 23530.128915474874 0.0\n",
      "ValueToday 386949.1173061198 0.0\n",
      "OrganicFarm 352.95176757849345 1.1608400721916165e-78\n",
      "DIM2 5007.425964980078 0.0\n"
     ]
    },
    {
     "data": {
      "text/plain": [
       "<Container object of 10 artists>"
      ]
     },
     "execution_count": 33,
     "metadata": {},
     "output_type": "execute_result"
    },
    {
     "data": {
      "image/png": "[encoded data removed]",
      "text/plain": [
       "<matplotlib.figure.Figure at 0xc23dd45d68>"
      ]
     },
     "metadata": {},
     "output_type": "display_data"
    }
   ],
   "source": [
    "from sklearn.feature_selection import f_regression\n",
    "fr = f_regression(X, y)\n",
    "print()\n",
    "print(\"F-regression scores:\")\n",
    "print(\"Feature   F-value     p-value\")\n",
    "for i in range(0,len(features)):\n",
    "    print(features[i], fr[0][i], fr[1][i])\n",
    "\n",
    "plt.bar(features, fr[0], label=\"Feature F-values\")"
   ]
  },
  {
   "cell_type": "markdown",
   "metadata": {},
   "source": [
    "ValueToday is decisive"
   ]
  },
  {
   "cell_type": "markdown",
   "metadata": {},
   "source": [
    "## Linear regression for current value\n",
    "Now let's leave the 2 week forecast aside and try to predict the value today (function of milk quantity, fat and protein) based on some selected factors. So repeat the code from above with target ValueToday."
   ]
  },
  {
   "cell_type": "code",
   "execution_count": 34,
   "metadata": {},
   "outputs": [
    {
     "name": "stdout",
     "output_type": "stream",
     "text": [
      "Prediction mean error:  0.53839\n",
      "Let's try adding the square of DIM\n",
      "Prediction mean error:  0.54354\n",
      "R2 of DIM2 model:  0.5017519071223342\n",
      "Model coefficients: \n",
      "Farm 0.0683394154507861\n",
      "MonthSin 0.040467574530307235\n",
      "MonthCos -0.019362155342759136\n",
      "Calving No 0.19538466003250166\n",
      "DIM -0.21110043614723495\n",
      "MilkingsLast24h 0.46995146983157426\n",
      "FeedTotal24h 0.20725235919916124\n",
      "OrganicFarm -0.0306651308053307\n",
      "DIM2 -0.027265777082865407\n"
     ]
    }
   ],
   "source": [
    "    features = [\"Farm\", \"MonthSin\", \"MonthCos\", \"Calving No\", \"DIM\", \"MilkingsLast24h\", \"FeedTotal24h\",\n",
    "                \"OrganicFarm\", \"ValueToday\"]    \n",
    "    predDf = df.loc[:,features]\n",
    "    predDf = normalizeFeatures(predDf)\n",
    "    y = predDf.ValueToday\n",
    "    X = predDf.drop(\"ValueToday\", axis=\"columns\")\n",
    "    trainX, testX, trainy, testy = splitTrainTest(X, y)    \n",
    "    lin = linear_model.LinearRegression()\n",
    "    lin.fit(trainX, trainy)\n",
    "    prediction = lin.predict(testX)\n",
    "    evaluateResults(prediction, testy)\n",
    "    print (\"Let's try adding the square of DIM\")\n",
    "    X[\"DIM2\"] = X[\"DIM\"]*X[\"DIM\"]    \n",
    "    X = normalizeFeatures(X)\n",
    "    trainX, testX, trainy, testy = splitTrainTest(X, y)\n",
    "    lin2 = linear_model.LinearRegression()\n",
    "    lin2.fit(trainX, trainy)\n",
    "    prediction = lin2.predict(testX)\n",
    "    evaluateResults(prediction, testy)   \n",
    "    print(\"R2 of DIM2 model: \", lin2.score(testX, testy))\n",
    "    print(\"Model coefficients: \")\n",
    "    features[len(lin2.coef_)-1] =\"DIM2\"\n",
    "    for i in range(0,len(lin2.coef_)):\n",
    "        print(features[i], lin2.coef_[i])"
   ]
  },
  {
   "cell_type": "markdown",
   "metadata": {},
   "source": [
    "A pretty bad forecast, considering that the mean error is based on normalised values. Also the R2 is bad."
   ]
  },
  {
   "cell_type": "markdown",
   "metadata": {},
   "source": [
    "Baseline for forecasting ValueToday: just use the mean of all values. Let's calculate it and it's performance."
   ]
  },
  {
   "cell_type": "code",
   "execution_count": 45,
   "metadata": {},
   "outputs": [
    {
     "name": "stderr",
     "output_type": "stream",
     "text": [
      "C:\\Users\\pihlaart1\\AppData\\Local\\Continuum\\anaconda3\\lib\\site-packages\\sklearn\\preprocessing\\data.py:181: UserWarning: Numerical issues were encountered when scaling the data and might not be solved. The standard deviation of the data is probably very close to 0. \n",
      "  warnings.warn(\"Numerical issues were encountered \"\n",
      "C:\\Users\\pihlaart1\\AppData\\Local\\Continuum\\anaconda3\\lib\\site-packages\\pandas\\core\\indexing.py:194: SettingWithCopyWarning: \n",
      "A value is trying to be set on a copy of a slice from a DataFrame\n",
      "\n",
      "See the caveats in the documentation: http://pandas.pydata.org/pandas-docs/stable/indexing.html#indexing-view-versus-copy\n",
      "  self._setitem_with_indexer(indexer, value)\n"
     ]
    },
    {
     "name": "stdout",
     "output_type": "stream",
     "text": [
      "Prediction mean error:  0.79855\n"
     ]
    },
    {
     "name": "stderr",
     "output_type": "stream",
     "text": [
      "C:\\Users\\pihlaart1\\AppData\\Local\\Continuum\\anaconda3\\lib\\site-packages\\ipykernel_launcher.py:8: SettingWithCopyWarning: \n",
      "A value is trying to be set on a copy of a slice from a DataFrame\n",
      "\n",
      "See the caveats in the documentation: http://pandas.pydata.org/pandas-docs/stable/indexing.html#indexing-view-versus-copy\n",
      "  \n"
     ]
    }
   ],
   "source": [
    "bl = df.ValueToday.mean()\n",
    "predDf[\"bl\"]=bl\n",
    "predDf = normalizeFeatures(predDf.iloc[:,1:])\n",
    "evaluateResults(predDf.bl,testy)"
   ]
  },
  {
   "cell_type": "markdown",
   "metadata": {},
   "source": [
    "(The warnings can be ignored. They are due to the fact that all values of bl are identical.)\n",
    "OK, at least we do better than the baseline."
   ]
  },
  {
   "attachments": {
    "GLM%20link%20functions.PNG": {
     "image/png": "[encoded data removed]"
    }
   },
   "cell_type": "markdown",
   "metadata": {},
   "source": [
    "## Generalized Linear Model\n",
    "Try a GLM with Gamma distribution. The default link function is inverse power. Let's try identity and power.\n",
    "![GLM%20link%20functions.PNG](attachment:GLM%20link%20functions.PNG)\n"
   ]
  },
  {
   "cell_type": "code",
   "execution_count": 46,
   "metadata": {},
   "outputs": [
    {
     "name": "stderr",
     "output_type": "stream",
     "text": [
      "C:\\Users\\pihlaart1\\AppData\\Local\\Continuum\\anaconda3\\lib\\site-packages\\statsmodels\\compat\\pandas.py:56: FutureWarning: The pandas.core.datetools module is deprecated and will be removed in a future version. Please use the pandas.tseries module instead.\n",
      "  from pandas.core import datetools\n",
      "C:\\Users\\pihlaart1\\AppData\\Local\\Continuum\\anaconda3\\lib\\site-packages\\statsmodels\\genmod\\generalized_linear_model.py:244: DomainWarning: The identity link function does not respect the domain of the Gamma family.\n",
      "  DomainWarning)\n"
     ]
    },
    {
     "name": "stdout",
     "output_type": "stream",
     "text": [
      "                 Generalized Linear Model Regression Results                  \n",
      "==============================================================================\n",
      "Dep. Variable:             ValueToday   No. Observations:               135133\n",
      "Model:                            GLM   Df Residuals:                   135124\n",
      "Model Family:                   Gamma   Df Model:                            8\n",
      "Link Function:               identity   Scale:               58631.69271301637\n",
      "Method:                          IRLS   Log-Likelihood:                    nan\n",
      "Date:                Mon, 28 May 2018   Deviance:                   3.3476e+06\n",
      "Time:                        23:35:35   Pearson chi2:                 7.92e+09\n",
      "No. Iterations:                   100                                         \n",
      "===================================================================================\n",
      "                      coef    std err          z      P>|z|      [0.025      0.975]\n",
      "-----------------------------------------------------------------------------------\n",
      "Farm               -0.3837      0.087     -4.435      0.000      -0.553      -0.214\n",
      "MonthSin           -0.0092      0.001     -7.095      0.000      -0.012      -0.007\n",
      "MonthCos           -0.3289      0.168     -1.962      0.050      -0.657      -0.000\n",
      "Calving No          0.7191      0.230      3.125      0.002       0.268       1.170\n",
      "DIM                -0.1621      0.051     -3.173      0.002      -0.262      -0.062\n",
      "MilkingsLast24h    -0.0321      0.189     -0.170      0.865      -0.402       0.338\n",
      "FeedTotal24h        0.0996      0.045      2.235      0.025       0.012       0.187\n",
      "OrganicFarm        -3.8691      1.358     -2.849      0.004      -6.531      -1.207\n",
      "DIM2               -0.0946      0.101     -0.941      0.347      -0.292       0.102\n",
      "===================================================================================\n",
      "Prediction mean error:  1.31621\n"
     ]
    },
    {
     "name": "stderr",
     "output_type": "stream",
     "text": [
      "C:\\Users\\pihlaart1\\AppData\\Local\\Continuum\\anaconda3\\lib\\site-packages\\statsmodels\\genmod\\families\\family.py:738: RuntimeWarning: invalid value encountered in log\n",
      "  np.log(endog) + np.log(scale) + scale *\n"
     ]
    }
   ],
   "source": [
    "# source: http://www.statsmodels.org/devel/generated/statsmodels.genmod.generalized_linear_model.GLM.html?highlight=glm\n",
    "# creds: https://stackoverflow.com/questions/41749167/glm-gamma-regression-in-python-statsmodels        \n",
    "import statsmodels.api as sm \n",
    "model = sm.GLM(trainy, trainX, family=sm.families.Gamma(link=sm.genmod.families.links.identity)).fit()\n",
    "print(model.summary())\n",
    "prediction = model.predict(testX)\n",
    "evaluateResults(prediction, testy)"
   ]
  },
  {
   "cell_type": "markdown",
   "metadata": {},
   "source": [
    "A prediction mean error of 1.32, if reliable, is horribly bad performance.\n",
    "Try power function."
   ]
  },
  {
   "cell_type": "code",
   "execution_count": 47,
   "metadata": {},
   "outputs": [
    {
     "ename": "ValueError",
     "evalue": "Invalid link for family, should be in [<class 'statsmodels.genmod.families.links.log'>, <class 'statsmodels.genmod.families.links.identity'>, <class 'statsmodels.genmod.families.links.inverse_power'>]. (got <statsmodels.genmod.families.links.Power object at 0x000000C2013B0D68>)",
     "output_type": "error",
     "traceback": [
      "\u001b[1;31m---------------------------------------------------------------------------\u001b[0m",
      "\u001b[1;31mValueError\u001b[0m                                Traceback (most recent call last)",
      "\u001b[1;32m<ipython-input-47-d1b85f5cc093>\u001b[0m in \u001b[0;36m<module>\u001b[1;34m()\u001b[0m\n\u001b[1;32m----> 1\u001b[1;33m \u001b[0mmodel\u001b[0m \u001b[1;33m=\u001b[0m \u001b[0msm\u001b[0m\u001b[1;33m.\u001b[0m\u001b[0mGLM\u001b[0m\u001b[1;33m(\u001b[0m\u001b[0mtrainy\u001b[0m\u001b[1;33m,\u001b[0m \u001b[0mtrainX\u001b[0m\u001b[1;33m,\u001b[0m \u001b[0mfamily\u001b[0m\u001b[1;33m=\u001b[0m\u001b[0msm\u001b[0m\u001b[1;33m.\u001b[0m\u001b[0mfamilies\u001b[0m\u001b[1;33m.\u001b[0m\u001b[0mGamma\u001b[0m\u001b[1;33m(\u001b[0m\u001b[0mlink\u001b[0m\u001b[1;33m=\u001b[0m\u001b[0msm\u001b[0m\u001b[1;33m.\u001b[0m\u001b[0mgenmod\u001b[0m\u001b[1;33m.\u001b[0m\u001b[0mfamilies\u001b[0m\u001b[1;33m.\u001b[0m\u001b[0mlinks\u001b[0m\u001b[1;33m.\u001b[0m\u001b[0mPower\u001b[0m\u001b[1;33m)\u001b[0m\u001b[1;33m)\u001b[0m\u001b[1;33m.\u001b[0m\u001b[0mfit\u001b[0m\u001b[1;33m(\u001b[0m\u001b[1;33m)\u001b[0m\u001b[1;33m\u001b[0m\u001b[0m\n\u001b[0m\u001b[0;32m      2\u001b[0m \u001b[0mprint\u001b[0m\u001b[1;33m(\u001b[0m\u001b[0mmodel\u001b[0m\u001b[1;33m.\u001b[0m\u001b[0msummary\u001b[0m\u001b[1;33m(\u001b[0m\u001b[1;33m)\u001b[0m\u001b[1;33m)\u001b[0m\u001b[1;33m\u001b[0m\u001b[0m\n\u001b[0;32m      3\u001b[0m \u001b[0mprediction\u001b[0m \u001b[1;33m=\u001b[0m \u001b[0mmodel\u001b[0m\u001b[1;33m.\u001b[0m\u001b[0mpredict\u001b[0m\u001b[1;33m(\u001b[0m\u001b[0mtestX\u001b[0m\u001b[1;33m)\u001b[0m\u001b[1;33m\u001b[0m\u001b[0m\n\u001b[0;32m      4\u001b[0m \u001b[0mevaluateResults\u001b[0m\u001b[1;33m(\u001b[0m\u001b[0mprediction\u001b[0m\u001b[1;33m,\u001b[0m \u001b[0mtesty\u001b[0m\u001b[1;33m)\u001b[0m\u001b[1;33m\u001b[0m\u001b[0m\n",
      "\u001b[1;32m~\\AppData\\Local\\Continuum\\anaconda3\\lib\\site-packages\\statsmodels\\genmod\\families\\family.py\u001b[0m in \u001b[0;36m__init__\u001b[1;34m(self, link)\u001b[0m\n\u001b[0;32m    631\u001b[0m     \u001b[1;32mdef\u001b[0m \u001b[0m__init__\u001b[0m\u001b[1;33m(\u001b[0m\u001b[0mself\u001b[0m\u001b[1;33m,\u001b[0m \u001b[0mlink\u001b[0m\u001b[1;33m=\u001b[0m\u001b[0mL\u001b[0m\u001b[1;33m.\u001b[0m\u001b[0minverse_power\u001b[0m\u001b[1;33m)\u001b[0m\u001b[1;33m:\u001b[0m\u001b[1;33m\u001b[0m\u001b[0m\n\u001b[0;32m    632\u001b[0m         \u001b[0mself\u001b[0m\u001b[1;33m.\u001b[0m\u001b[0mvariance\u001b[0m \u001b[1;33m=\u001b[0m \u001b[0mGamma\u001b[0m\u001b[1;33m.\u001b[0m\u001b[0mvariance\u001b[0m\u001b[1;33m\u001b[0m\u001b[0m\n\u001b[1;32m--> 633\u001b[1;33m         \u001b[0mself\u001b[0m\u001b[1;33m.\u001b[0m\u001b[0mlink\u001b[0m \u001b[1;33m=\u001b[0m \u001b[0mlink\u001b[0m\u001b[1;33m(\u001b[0m\u001b[1;33m)\u001b[0m\u001b[1;33m\u001b[0m\u001b[0m\n\u001b[0m\u001b[0;32m    634\u001b[0m \u001b[1;33m\u001b[0m\u001b[0m\n\u001b[0;32m    635\u001b[0m     \u001b[1;32mdef\u001b[0m \u001b[0m_clean\u001b[0m\u001b[1;33m(\u001b[0m\u001b[0mself\u001b[0m\u001b[1;33m,\u001b[0m \u001b[0mx\u001b[0m\u001b[1;33m)\u001b[0m\u001b[1;33m:\u001b[0m\u001b[1;33m\u001b[0m\u001b[0m\n",
      "\u001b[1;32m~\\AppData\\Local\\Continuum\\anaconda3\\lib\\site-packages\\statsmodels\\genmod\\families\\family.py\u001b[0m in \u001b[0;36m_setlink\u001b[1;34m(self, link)\u001b[0m\n\u001b[0;32m     61\u001b[0m             \u001b[1;32mif\u001b[0m \u001b[1;32mnot\u001b[0m \u001b[0mvalidlink\u001b[0m\u001b[1;33m:\u001b[0m\u001b[1;33m\u001b[0m\u001b[0m\n\u001b[0;32m     62\u001b[0m                 \u001b[0merrmsg\u001b[0m \u001b[1;33m=\u001b[0m \u001b[1;34m\"Invalid link for family, should be in %s. (got %s)\"\u001b[0m\u001b[1;33m\u001b[0m\u001b[0m\n\u001b[1;32m---> 63\u001b[1;33m                 \u001b[1;32mraise\u001b[0m \u001b[0mValueError\u001b[0m\u001b[1;33m(\u001b[0m\u001b[0merrmsg\u001b[0m \u001b[1;33m%\u001b[0m \u001b[1;33m(\u001b[0m\u001b[0mrepr\u001b[0m\u001b[1;33m(\u001b[0m\u001b[0mself\u001b[0m\u001b[1;33m.\u001b[0m\u001b[0mlinks\u001b[0m\u001b[1;33m)\u001b[0m\u001b[1;33m,\u001b[0m \u001b[0mlink\u001b[0m\u001b[1;33m)\u001b[0m\u001b[1;33m)\u001b[0m\u001b[1;33m\u001b[0m\u001b[0m\n\u001b[0m\u001b[0;32m     64\u001b[0m \u001b[1;33m\u001b[0m\u001b[0m\n\u001b[0;32m     65\u001b[0m     \u001b[1;32mdef\u001b[0m \u001b[0m_getlink\u001b[0m\u001b[1;33m(\u001b[0m\u001b[0mself\u001b[0m\u001b[1;33m)\u001b[0m\u001b[1;33m:\u001b[0m\u001b[1;33m\u001b[0m\u001b[0m\n",
      "\u001b[1;31mValueError\u001b[0m: Invalid link for family, should be in [<class 'statsmodels.genmod.families.links.log'>, <class 'statsmodels.genmod.families.links.identity'>, <class 'statsmodels.genmod.families.links.inverse_power'>]. (got <statsmodels.genmod.families.links.Power object at 0x000000C2013B0D68>)"
     ]
    }
   ],
   "source": [
    "model = sm.GLM(trainy, trainX, family=sm.families.Gamma(link=sm.genmod.families.links.Power)).fit()\n",
    "print(model.summary())\n",
    "prediction = model.predict(testX)\n",
    "evaluateResults(prediction, testy)"
   ]
  },
  {
   "cell_type": "markdown",
   "metadata": {},
   "source": [
    "So power doesn't work after all? How about inverse power?"
   ]
  },
  {
   "cell_type": "code",
   "execution_count": 48,
   "metadata": {},
   "outputs": [
    {
     "name": "stderr",
     "output_type": "stream",
     "text": [
      "C:\\Users\\pihlaart1\\AppData\\Local\\Continuum\\anaconda3\\lib\\site-packages\\statsmodels\\genmod\\generalized_linear_model.py:244: DomainWarning: The inverse_power link function does not respect the domain of the Gamma family.\n",
      "  DomainWarning)\n"
     ]
    },
    {
     "name": "stdout",
     "output_type": "stream",
     "text": [
      "                 Generalized Linear Model Regression Results                  \n",
      "==============================================================================\n",
      "Dep. Variable:             ValueToday   No. Observations:               135133\n",
      "Model:                            GLM   Df Residuals:                   135124\n",
      "Model Family:                   Gamma   Df Model:                            8\n",
      "Link Function:          inverse_power   Scale:               122.4439165846426\n",
      "Method:                          IRLS   Log-Likelihood:                    nan\n",
      "Date:                Mon, 28 May 2018   Deviance:                   4.4661e+06\n",
      "Time:                        23:44:10   Pearson chi2:                 1.65e+07\n",
      "No. Iterations:                    64                                         \n",
      "===================================================================================\n",
      "                      coef    std err          z      P>|z|      [0.025      0.975]\n",
      "-----------------------------------------------------------------------------------\n",
      "Farm               -8.3517      0.251    -33.220      0.000      -8.844      -7.859\n",
      "MonthSin           -0.2693      0.008    -33.199      0.000      -0.285      -0.253\n",
      "MonthCos            4.9912      0.150     33.220      0.000       4.697       5.286\n",
      "Calving No         -0.7868      0.024    -33.216      0.000      -0.833      -0.740\n",
      "DIM                -2.5645      0.077    -33.220      0.000      -2.716      -2.413\n",
      "MilkingsLast24h     1.0723      0.032     33.220      0.000       1.009       1.136\n",
      "FeedTotal24h       -2.1483      0.065    -33.220      0.000      -2.275      -2.022\n",
      "OrganicFarm         0.9399      0.028     33.192      0.000       0.884       0.995\n",
      "DIM2               -3.7566      0.113    -33.221      0.000      -3.978      -3.535\n",
      "===================================================================================\n",
      "Prediction mean error:  1.92612\n"
     ]
    },
    {
     "name": "stderr",
     "output_type": "stream",
     "text": [
      "C:\\Users\\pihlaart1\\AppData\\Local\\Continuum\\anaconda3\\lib\\site-packages\\statsmodels\\genmod\\families\\family.py:738: RuntimeWarning: invalid value encountered in log\n",
      "  np.log(endog) + np.log(scale) + scale *\n"
     ]
    }
   ],
   "source": [
    "model = sm.GLM(trainy, trainX, family=sm.families.Gamma(link=sm.genmod.families.links.inverse_power)).fit()\n",
    "print(model.summary())\n",
    "prediction = model.predict(testX)\n",
    "evaluateResults(prediction, testy)"
   ]
  },
  {
   "cell_type": "markdown",
   "metadata": {},
   "source": [
    "I quit."
   ]
  }
 ],
 "metadata": {
  "kernelspec": {
   "display_name": "Python 3",
   "language": "python",
   "name": "python3"
  },
  "language_info": {
   "codemirror_mode": {
    "name": "ipython",
    "version": 3
   },
   "file_extension": ".py",
   "mimetype": "text/x-python",
   "name": "python",
   "nbconvert_exporter": "python",
   "pygments_lexer": "ipython3",
   "version": "3.6.4"
  }
 },
 "nbformat": 4,
 "nbformat_minor": 2
}
